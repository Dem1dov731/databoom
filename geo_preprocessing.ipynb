{
  "nbformat": 4,
  "nbformat_minor": 0,
  "metadata": {
    "colab": {
      "provenance": []
    },
    "kernelspec": {
      "name": "python3",
      "display_name": "Python 3"
    },
    "language_info": {
      "name": "python"
    }
  },
  "cells": [
    {
      "cell_type": "code",
      "execution_count": null,
      "metadata": {
        "id": "hASLox2bPtTG"
      },
      "outputs": [],
      "source": [
        "import kagglehub\n",
        "\n",
        "# Download latest version\n",
        "path = kagglehub.dataset_download(\"mohamedmaideen/zillow-com-house-price-prediction\")\n",
        "\n",
        "print(\"Path to dataset files:\", path)"
      ]
    },
    {
      "cell_type": "code",
      "source": [
        "import pandas as pd\n",
        "import numpy as np"
      ],
      "metadata": {
        "id": "v2J3FaFlRS5I"
      },
      "execution_count": 5,
      "outputs": []
    },
    {
      "cell_type": "code",
      "source": [
        "df = pd.read_excel('/root/.cache/kagglehub/datasets/mohamedmaideen/zillow-com-house-price-prediction/versions/1/Zillow.com House Price Prediction Data.xlsx')\n",
        "mini_df = df[['url','timeOnZillow', 'longitude', 'latitude', 'price']].dropna()\n",
        "mini_df['timeOnZillow'] = mini_df['timeOnZillow'].apply(lambda x: int(x.split(' ')[0]))"
      ],
      "metadata": {
        "collapsed": true,
        "id": "Aoyk9zdMRKoI"
      },
      "execution_count": null,
      "outputs": []
    },
    {
      "cell_type": "code",
      "source": [
        "import geopandas as gpd\n",
        "gdf = gpd.GeoDataFrame(mini_df, geometry=gpd.points_from_xy(mini_df.longitude, mini_df.latitude))"
      ],
      "metadata": {
        "id": "tdKIE6K0U4x5"
      },
      "execution_count": 42,
      "outputs": []
    },
    {
      "cell_type": "code",
      "source": [
        "gdf['buffer'] = gdf.geometry.buffer(0.01) # Создает буфер вокруг геометрических объектов, что полезно для анализа близости."
      ],
      "metadata": {
        "id": "ydcmlfaPVAyq"
      },
      "execution_count": 43,
      "outputs": []
    },
    {
      "cell_type": "code",
      "source": [
        "gdf['intersection'] = gdf.loc[0, 'buffer'].intersection(gdf.buffer) # расстояние до точки"
      ],
      "metadata": {
        "id": "V35jOOOrP122"
      },
      "execution_count": 53,
      "outputs": []
    },
    {
      "cell_type": "code",
      "source": [
        "joined_gdf = gpd.sjoin(gdf1, gdf2, how='inner') # merge by geodata"
      ],
      "metadata": {
        "id": "LKzuVP1UP1tR"
      },
      "execution_count": 61,
      "outputs": []
    },
    {
      "cell_type": "code",
      "source": [
        "# geo KNN\n",
        "\n",
        "def find_nearest(geometry, gdf):\n",
        "    distances = gdf.geometry.distance(geometry) # расстояния от данного объекта до всех\n",
        "    nearest_index = distances[distances.values != 0].idxmin() # Получение индекса (кроме самого себя)\n",
        "    return gdf.loc[nearest_index, 'geometry'] # ind2vals\n",
        "\n",
        "gdf['nearest'] = gdf.geometry.apply(lambda geom: find_nearest(geom, gdf))"
      ],
      "metadata": {
        "id": "cuGJ4wdyYzpZ"
      },
      "execution_count": null,
      "outputs": []
    },
    {
      "cell_type": "code",
      "source": [
        "# плотность обёектов\n",
        "gdf['buffer'] = gdf.geometry.buffer(0.01)\n",
        "gdf['count'] = gdf.apply(lambda row: gdf.intersects(row.buffer).sum(), axis=1)\n",
        "gdf['density'] = gdf['count'] / 1 # заменить константу\n",
        "gdf.plot(column='density', legend=True, cmap='viridis',\n",
        "         figsize=(10, 5), vmin=0, vmax=3, alpha=0.5)"
      ],
      "metadata": {
        "collapsed": true,
        "id": "YXWBXZcijBHe"
      },
      "execution_count": null,
      "outputs": []
    },
    {
      "cell_type": "code",
      "source": [
        "color = ['green' if i > 1000 else 'red' for i in gdf.timeOnZillow]\n",
        "markersize = [i/gdf.price.mean()*10 for i in gdf.price]\n",
        "gdf.plot(color=color, markersize=markersize, figsize=(10, 10), alpha=0.5)"
      ],
      "metadata": {
        "id": "wDpNQLB8WrfV"
      },
      "execution_count": null,
      "outputs": []
    }
  ]
}